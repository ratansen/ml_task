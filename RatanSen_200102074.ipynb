{
 "cells": [
  {
   "cell_type": "code",
   "execution_count": 271,
   "metadata": {},
   "outputs": [],
   "source": [
    "import numpy as np\n",
    "import matplotlib.pyplot as plt\n",
    "import pandas as pd\n",
    "from sklearn.model_selection import train_test_split\n",
    "from sklearn.linear_model import LogisticRegression\n",
    "from sklearn.metrics import accuracy_score\n",
    "from sklearn.ensemble import RandomForestClassifier\n",
    "from sklearn.naive_bayes import GaussianNB\n"
   ]
  },
  {
   "cell_type": "code",
   "execution_count": 250,
   "metadata": {},
   "outputs": [],
   "source": [
    "df=pd.read_csv(r\"task2.csv\")\n",
    "c=df.copy()"
   ]
  },
  {
   "cell_type": "code",
   "execution_count": 251,
   "metadata": {},
   "outputs": [
    {
     "name": "stdout",
     "output_type": "stream",
     "text": [
      "ID                          0\n",
      "Segment type                0\n",
      "Segment Description         0\n",
      "Answer                      0\n",
      "Count                       0\n",
      "Percentage                  0\n",
      "It became a relationship    0\n",
      "dtype: int64\n"
     ]
    }
   ],
   "source": [
    "print(df.isnull().sum())"
   ]
  },
  {
   "cell_type": "code",
   "execution_count": 270,
   "metadata": {},
   "outputs": [],
   "source": [
    "df[np.isnan(df) == True] = 0"
   ]
  },
  {
   "cell_type": "code",
   "execution_count": 256,
   "metadata": {},
   "outputs": [],
   "source": [
    "p=list(set(df[\"Segment type\"]))\n",
    "q=list(set(df[\"Segment Description\"]))\n",
    "r=list(set(df[\"Answer\"]))"
   ]
  },
  {
   "cell_type": "code",
   "execution_count": 258,
   "metadata": {},
   "outputs": [],
   "source": [
    "segtype_dict={p[i]:i for i in range(len(p))}\n",
    "segdesc_dict={q[i]:i for i in range(len(q))}\n",
    "ans_dict={r[i]:i for i in range(len(r))}"
   ]
  },
  {
   "cell_type": "code",
   "execution_count": 260,
   "metadata": {},
   "outputs": [],
   "source": [
    "df[\"Segment type\"]=df[\"Segment type\"].map(segtype_dict)\n",
    "df[\"Segment Description\"]=df[\"Segment Description\"].map(segdesc_dict)\n",
    "df[\"Answer\"]=df[\"Answer\"].map(ans_dict)"
   ]
  },
  {
   "cell_type": "code",
   "execution_count": 343,
   "metadata": {},
   "outputs": [],
   "source": [
    "x = df.drop([\"It became a relationship\",\"ID\"], axis=1)\n",
    "y = df[\"It became a relationship\"]\n",
    "x_train, x_test, y_train, y_test = train_test_split(x, y, test_size=0.3, random_state=2)"
   ]
  },
  {
   "cell_type": "code",
   "execution_count": 380,
   "metadata": {},
   "outputs": [
    {
     "name": "stdout",
     "output_type": "stream",
     "text": [
      "Accuracy for Logistic Regression :  83.6555360281195 %\n"
     ]
    }
   ],
   "source": [
    "LR = LogisticRegression(random_state=5).fit(x_train, y_train)\n",
    "predictions = LR.predict(x_test)\n",
    "print(\"Accuracy for Logistic Regression : \",accuracy_score(y_test, predictions)*100,\"%\")"
   ]
  },
  {
   "cell_type": "code",
   "execution_count": 381,
   "metadata": {},
   "outputs": [
    {
     "name": "stdout",
     "output_type": "stream",
     "text": [
      "Accuracy for Random Forest Classifier :  88.75219683655537 %\n"
     ]
    }
   ],
   "source": [
    "RF = RandomForestClassifier(max_depth=8,n_estimators=9,random_state= 101).fit(x_train,y_train)\n",
    "predictionforest = RF.predict(x_test)\n",
    "print(\"Accuracy for Random Forest Classifier : \",accuracy_score(y_test,predictionforest)*100,\"%\")"
   ]
  },
  {
   "cell_type": "code",
   "execution_count": null,
   "metadata": {},
   "outputs": [],
   "source": []
  }
 ],
 "metadata": {
  "kernelspec": {
   "display_name": "Python 3",
   "language": "python",
   "name": "python3"
  },
  "language_info": {
   "codemirror_mode": {
    "name": "ipython",
    "version": 3
   },
   "file_extension": ".py",
   "mimetype": "text/x-python",
   "name": "python",
   "nbconvert_exporter": "python",
   "pygments_lexer": "ipython3",
   "version": "3.7.6"
  }
 },
 "nbformat": 4,
 "nbformat_minor": 4
}
